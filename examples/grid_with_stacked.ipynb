{
 "cells": [
  {
   "cell_type": "code",
   "execution_count": 1,
   "metadata": {},
   "outputs": [
    {
     "name": "stdout",
     "output_type": "stream",
     "text": [
      "(1342, 10)\n"
     ]
    },
    {
     "data": {
      "text/html": [
       "<div>\n",
       "<style scoped>\n",
       "    .dataframe tbody tr th:only-of-type {\n",
       "        vertical-align: middle;\n",
       "    }\n",
       "\n",
       "    .dataframe tbody tr th {\n",
       "        vertical-align: top;\n",
       "    }\n",
       "\n",
       "    .dataframe thead th {\n",
       "        text-align: right;\n",
       "    }\n",
       "</style>\n",
       "<table border=\"1\" class=\"dataframe\">\n",
       "  <thead>\n",
       "    <tr style=\"text-align: right;\">\n",
       "      <th></th>\n",
       "      <th>col0</th>\n",
       "      <th>col1</th>\n",
       "      <th>col2</th>\n",
       "      <th>col3</th>\n",
       "      <th>col4</th>\n",
       "      <th>col5</th>\n",
       "      <th>col6</th>\n",
       "      <th>col7</th>\n",
       "      <th>col8</th>\n",
       "      <th>col9</th>\n",
       "    </tr>\n",
       "    <tr>\n",
       "      <th>time</th>\n",
       "      <th></th>\n",
       "      <th></th>\n",
       "      <th></th>\n",
       "      <th></th>\n",
       "      <th></th>\n",
       "      <th></th>\n",
       "      <th></th>\n",
       "      <th></th>\n",
       "      <th></th>\n",
       "      <th></th>\n",
       "    </tr>\n",
       "  </thead>\n",
       "  <tbody>\n",
       "    <tr>\n",
       "      <th>2019-01-01 01:39:00</th>\n",
       "      <td>-0.037434</td>\n",
       "      <td>0.117573</td>\n",
       "      <td>0.189879</td>\n",
       "      <td>0.002616</td>\n",
       "      <td>-0.079472</td>\n",
       "      <td>0.115318</td>\n",
       "      <td>-0.048063</td>\n",
       "      <td>-0.002904</td>\n",
       "      <td>-0.011602</td>\n",
       "      <td>0.005502</td>\n",
       "    </tr>\n",
       "    <tr>\n",
       "      <th>2019-01-01 01:40:00</th>\n",
       "      <td>-0.032349</td>\n",
       "      <td>0.106346</td>\n",
       "      <td>0.199563</td>\n",
       "      <td>0.002649</td>\n",
       "      <td>-0.089620</td>\n",
       "      <td>0.095387</td>\n",
       "      <td>-0.054562</td>\n",
       "      <td>-0.016973</td>\n",
       "      <td>-0.021907</td>\n",
       "      <td>0.026605</td>\n",
       "    </tr>\n",
       "    <tr>\n",
       "      <th>2019-01-01 01:41:00</th>\n",
       "      <td>-0.065608</td>\n",
       "      <td>0.087076</td>\n",
       "      <td>0.189810</td>\n",
       "      <td>0.001083</td>\n",
       "      <td>-0.069259</td>\n",
       "      <td>0.075435</td>\n",
       "      <td>-0.037395</td>\n",
       "      <td>-0.035694</td>\n",
       "      <td>-0.063104</td>\n",
       "      <td>0.025187</td>\n",
       "    </tr>\n",
       "    <tr>\n",
       "      <th>2019-01-01 01:42:00</th>\n",
       "      <td>-0.061601</td>\n",
       "      <td>0.067645</td>\n",
       "      <td>0.183253</td>\n",
       "      <td>0.006044</td>\n",
       "      <td>-0.073584</td>\n",
       "      <td>0.070739</td>\n",
       "      <td>-0.032002</td>\n",
       "      <td>-0.039580</td>\n",
       "      <td>-0.048021</td>\n",
       "      <td>0.017649</td>\n",
       "    </tr>\n",
       "    <tr>\n",
       "      <th>2019-01-01 01:43:00</th>\n",
       "      <td>-0.053738</td>\n",
       "      <td>0.050435</td>\n",
       "      <td>0.167004</td>\n",
       "      <td>0.022624</td>\n",
       "      <td>-0.088897</td>\n",
       "      <td>0.059226</td>\n",
       "      <td>-0.037980</td>\n",
       "      <td>-0.055101</td>\n",
       "      <td>-0.031053</td>\n",
       "      <td>0.015228</td>\n",
       "    </tr>\n",
       "  </tbody>\n",
       "</table>\n",
       "</div>"
      ],
      "text/plain": [
       "                         col0      col1      col2      col3      col4  \\\n",
       "time                                                                    \n",
       "2019-01-01 01:39:00 -0.037434  0.117573  0.189879  0.002616 -0.079472   \n",
       "2019-01-01 01:40:00 -0.032349  0.106346  0.199563  0.002649 -0.089620   \n",
       "2019-01-01 01:41:00 -0.065608  0.087076  0.189810  0.001083 -0.069259   \n",
       "2019-01-01 01:42:00 -0.061601  0.067645  0.183253  0.006044 -0.073584   \n",
       "2019-01-01 01:43:00 -0.053738  0.050435  0.167004  0.022624 -0.088897   \n",
       "\n",
       "                         col5      col6      col7      col8      col9  \n",
       "time                                                                   \n",
       "2019-01-01 01:39:00  0.115318 -0.048063 -0.002904 -0.011602  0.005502  \n",
       "2019-01-01 01:40:00  0.095387 -0.054562 -0.016973 -0.021907  0.026605  \n",
       "2019-01-01 01:41:00  0.075435 -0.037395 -0.035694 -0.063104  0.025187  \n",
       "2019-01-01 01:42:00  0.070739 -0.032002 -0.039580 -0.048021  0.017649  \n",
       "2019-01-01 01:43:00  0.059226 -0.037980 -0.055101 -0.031053  0.015228  "
      ]
     },
     "metadata": {},
     "output_type": "display_data"
    }
   ],
   "source": [
    "from am4894pd.utils import df_dummy_ts # used to generate some dummy data\n",
    "from am4894plots.plots import plot_lines, plot_lines_grid\n",
    "from am4894plots.lines.bokeh import plot_lines as plot_lines_bokeh\n",
    "from am4894plots.lines.bokeh import plot_lines_grid as plot_lines_grid_bk\n",
    "\n",
    "# generate some dummy time series data\n",
    "df = df_dummy_ts(n_cols=10, freq='1min')\n",
    "print(df.shape)\n",
    "display(df.head())"
   ]
  },
  {
   "cell_type": "code",
   "execution_count": 2,
   "metadata": {},
   "outputs": [
    {
     "name": "stdout",
     "output_type": "stream",
     "text": [
      "[(Timestamp('2019-01-01 19:01:00'), Timestamp('2019-01-01 22:20:00'), 'lightblue'), (Timestamp('2019-01-01 22:21:00'), Timestamp('2019-01-02 00:00:00'), 'yellow')]\n"
     ]
    }
   ],
   "source": [
    "# make shaded region\n",
    "shade_regions = [\n",
    "    (df.index[-300:].min(), df.index[-101], 'lightblue'),\n",
    "    (df.index[-100:].min(), df.index.max(), 'yellow')\n",
    "]\n",
    "print(shade_regions)"
   ]
  },
  {
   "cell_type": "code",
   "execution_count": 3,
   "metadata": {},
   "outputs": [],
   "source": [
    "subplot_titles = ['col0 & col1', 'col2', 'col3']"
   ]
  },
  {
   "cell_type": "code",
   "execution_count": 4,
   "metadata": {},
   "outputs": [],
   "source": [
    "plot_cols = [['col0','col1'], 'col2', 'col3']"
   ]
  },
  {
   "cell_type": "code",
   "execution_count": 5,
   "metadata": {},
   "outputs": [],
   "source": [
    "# plot each time series on single plot as a line\n",
    "plot_lines_grid(\n",
    "    df, plot_cols, subplot_titles=subplot_titles, return_p=False, show_p=False, out_path='example_plots/grid_with_stacked.html', h_each=200, \n",
    "    w=1200, legend=False, yaxes_visible=False, shade_regions=shade_regions, text_position='bottom right', \n",
    "    xaxes_visible=False\n",
    ")"
   ]
  }
 ],
 "metadata": {
  "kernelspec": {
   "display_name": "Python 3",
   "language": "python",
   "name": "python3"
  },
  "language_info": {
   "codemirror_mode": {
    "name": "ipython",
    "version": 3
   },
   "file_extension": ".py",
   "mimetype": "text/x-python",
   "name": "python",
   "nbconvert_exporter": "python",
   "pygments_lexer": "ipython3",
   "version": "3.8.1"
  }
 },
 "nbformat": 4,
 "nbformat_minor": 4
}
